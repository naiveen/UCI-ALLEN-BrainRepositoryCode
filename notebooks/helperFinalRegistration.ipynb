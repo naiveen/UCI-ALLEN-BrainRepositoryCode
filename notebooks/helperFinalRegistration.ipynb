{
 "cells": [
  {
   "cell_type": "code",
   "execution_count": 1,
   "id": "25767a8c",
   "metadata": {},
   "outputs": [],
   "source": [
    "%load_ext autoreload\n",
    "%autoreload 2"
   ]
  },
  {
   "cell_type": "code",
   "execution_count": 2,
   "id": "7e15046f",
   "metadata": {},
   "outputs": [
    {
     "name": "stdout",
     "output_type": "stream",
     "text": [
      "Jupyter environment detected. Enabling Open3D WebVisualizer.\n",
      "[Open3D INFO] WebRTC GUI backend enabled.\n",
      "[Open3D INFO] WebRTCWindowSystem: HTTP handshake server disabled.\n"
     ]
    }
   ],
   "source": [
    "import numpy as np\n",
    "import registration as rg\n",
    "\n",
    "from registration.utils import create_nifti_image"
   ]
  },
  {
   "cell_type": "code",
   "execution_count": 3,
   "id": "2f26ab60",
   "metadata": {},
   "outputs": [],
   "source": [
    "templateImagePath = \"../CCF_DATA/average_template_25.nii.gz\"\n",
    "dataImagePath = \"brain_25.nii.gz\"\n",
    "annotationImagePath = \"../CCF_DATA/annotation_25.nii.gz\"\n",
    "\n",
    "fixedImagePath = templateImagePath\n",
    "movingImagePath = dataImagePath"
   ]
  },
  {
   "cell_type": "code",
   "execution_count": 4,
   "id": "9ea3df8f",
   "metadata": {},
   "outputs": [],
   "source": [
    "import os\n",
    "outputDir = \"reg\"\n",
    "if not os.path.isdir(outputDir):\n",
    "    os.mkdir(outputDir)\n",
    "    \n",
    "if not os.path.isdir(\"reg/tests\"):\n",
    "    os.mkdir(\"reg/tests\")"
   ]
  },
  {
   "cell_type": "code",
   "execution_count": 5,
   "id": "6026e87c",
   "metadata": {},
   "outputs": [
    {
     "name": "stderr",
     "output_type": "stream",
     "text": [
      "100%|██████████| 161/161 [00:00<00:00, 174.45it/s]\n",
      "100%|██████████| 528/528 [00:01<00:00, 447.46it/s]\n"
     ]
    },
    {
     "data": {
      "text/plain": [
       "<nibabel.nifti1.Nifti1Image at 0x1a9d0aae280>"
      ]
     },
     "execution_count": 5,
     "metadata": {},
     "output_type": "execute_result"
    }
   ],
   "source": [
    "A, axisAlignedData = rg.axisAlignData(fixedImagePath, movingImagePath)\n",
    "\n",
    "axisAlignedDataPath  = os.path.join(outputDir , \"axisAlignedData.nii.gz\")\n",
    "create_nifti_image(axisAlignedData, 25, axisAlignedDataPath, 1)"
   ]
  },
  {
   "cell_type": "code",
   "execution_count": 6,
   "id": "544721d9",
   "metadata": {},
   "outputs": [],
   "source": [
    "elastixResult  = rg.elastixRegistration(fixedImagePath , axisAlignedDataPath, outputDir, rescale=True)"
   ]
  },
  {
   "cell_type": "code",
   "execution_count": 7,
   "id": "5f1555bb",
   "metadata": {},
   "outputs": [],
   "source": [
    "elastixResult  = rg.elastixTransformation(axisAlignedDataPath, outputDir)"
   ]
  },
  {
   "cell_type": "code",
   "execution_count": 8,
   "id": "41b8fe79",
   "metadata": {},
   "outputs": [
    {
     "name": "stderr",
     "output_type": "stream",
     "text": [
      " 89%|████████▊ | 468/528 [05:38<00:16,  3.54it/s]c:\\Users\\atchu\\anaconda3\\envs\\tissuecyte\\lib\\site-packages\\numpy\\lib\\function_base.py:4527: RuntimeWarning: invalid value encountered in subtract\n",
      "  diff_b_a = subtract(b, a)\n",
      "100%|██████████| 528/528 [06:08<00:00,  1.43it/s]\n"
     ]
    },
    {
     "name": "stdout",
     "output_type": "stream",
     "text": [
      "Building data for Laplacian Sparse Matrix A\n",
      "Creating Laplacian Sparse Matrix A\n"
     ]
    }
   ],
   "source": [
    "deformationField  = rg.sliceToSlice3DLaplacian(fixedImagePath , elastixResult , axis =0 )"
   ]
  },
  {
   "cell_type": "code",
   "execution_count": 31,
   "id": "f63593d0",
   "metadata": {},
   "outputs": [
    {
     "data": {
      "text/plain": [
       "<nibabel.nifti1.Nifti1Image at 0x1fe2c833640>"
      ]
     },
     "execution_count": 31,
     "metadata": {},
     "output_type": "execute_result"
    }
   ],
   "source": [
    "transformedData   = rg.applyDeformationField(movingImagePath , deformationField)\n",
    "refinedResultPath = os.path.join(outputDir, \"elastixRefined.nii.gz\")\n",
    "create_nifti_image(transformedData, 2.5, refinedResultPath, 1/2)\n",
    "np.save(os.path.join(outputDir,\"deformation3d.npy\"), deformationField)"
   ]
  }
 ],
 "metadata": {
  "kernelspec": {
   "display_name": "Python 3 (ipykernel)",
   "language": "python",
   "name": "python3"
  },
  "language_info": {
   "codemirror_mode": {
    "name": "ipython",
    "version": 3
   },
   "file_extension": ".py",
   "mimetype": "text/x-python",
   "name": "python",
   "nbconvert_exporter": "python",
   "pygments_lexer": "ipython3",
   "version": "3.9.13"
  }
 },
 "nbformat": 4,
 "nbformat_minor": 5
}
