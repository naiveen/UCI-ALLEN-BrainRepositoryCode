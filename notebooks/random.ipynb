{
 "cells": [
  {
   "cell_type": "markdown",
   "id": "66d1ceaa",
   "metadata": {},
   "source": [
    "# Convert CCF Data header to normal\n",
    "\n",
    "Allen's CCF dta has a different origin and different orieentation axes which is problematic in Elastix registration. So, extract numpy array from Allen institute so that we can use them for registration.  "
   ]
  },
  {
   "cell_type": "code",
   "execution_count": 1,
   "id": "d9dce32e",
   "metadata": {},
   "outputs": [],
   "source": [
    "import nibabel as nii\n",
    "\n",
    "import os \n",
    "\n",
    "import numpy as np"
   ]
  },
  {
   "cell_type": "code",
   "execution_count": 9,
   "id": "aeb3389b",
   "metadata": {},
   "outputs": [],
   "source": []
  },
  {
   "cell_type": "code",
   "execution_count": 13,
   "id": "3c77ec86",
   "metadata": {},
   "outputs": [],
   "source": [
    "def create_nifti_image(img_array, scale):\n",
    "    \"\"\"\n",
    "    img_array : numpy array, containing stack of images\n",
    "    scale: nifti scale\n",
    "    \"\"\"\n",
    "    affine_transform = np.zeros((4,4))\n",
    "\n",
    "    affine_transform[0,2] = scale\n",
    "    affine_transform[2,1] = -scale\n",
    "    affine_transform[1,0] = -scale\n",
    "    affine_transform[3,3] = 1\n",
    "    nibImg = nii.Nifti1Image(img_array,affine_transform)\n",
    "\n",
    "    nibImg.header['qform_code'] =1\n",
    "    \n",
    "    return nibImg"
   ]
  },
  {
   "cell_type": "markdown",
   "id": "094439b9",
   "metadata": {},
   "source": [
    "# For Average Template"
   ]
  },
  {
   "cell_type": "code",
   "execution_count": 3,
   "id": "879da965",
   "metadata": {},
   "outputs": [
    {
     "name": "stdout",
     "output_type": "stream",
     "text": [
      "<class 'nibabel.nifti1.Nifti1Header'> object, endian='<'\n",
      "sizeof_hdr      : 348\n",
      "data_type       : b''\n",
      "db_name         : b''\n",
      "extents         : 0\n",
      "session_error   : 0\n",
      "regular         : b'r'\n",
      "dim_info        : 0\n",
      "dim             : [  3 528 320 456   1   1   1   1]\n",
      "intent_p1       : 0.0\n",
      "intent_p2       : 0.0\n",
      "intent_p3       : 0.0\n",
      "intent_code     : none\n",
      "datatype        : uint16\n",
      "bitpix          : 16\n",
      "slice_start     : 0\n",
      "pixdim          : [1.    0.025 0.025 0.025 0.    0.    0.    0.   ]\n",
      "vox_offset      : 0.0\n",
      "scl_slope       : nan\n",
      "scl_inter       : nan\n",
      "slice_end       : 0\n",
      "slice_code      : unknown\n",
      "xyzt_units      : 2\n",
      "cal_max         : 0.0\n",
      "cal_min         : 0.0\n",
      "slice_duration  : 0.0\n",
      "toffset         : 0.0\n",
      "glmax           : 0\n",
      "glmin           : 0\n",
      "descrip         : b''\n",
      "aux_file        : b''\n",
      "qform_code      : scanner\n",
      "sform_code      : unknown\n",
      "quatern_b       : -0.5\n",
      "quatern_c       : 0.5\n",
      "quatern_d       : -0.5\n",
      "qoffset_x       : -5.695\n",
      "qoffset_y       : 5.35\n",
      "qoffset_z       : 5.22\n",
      "srow_x          : [0. 0. 0. 0.]\n",
      "srow_y          : [0. 0. 0. 0.]\n",
      "srow_z          : [0. 0. 0. 0.]\n",
      "intent_name     : b''\n",
      "magic           : b'n+1'\n"
     ]
    }
   ],
   "source": [
    "nimage = nii.load(\"CCF_DATA/average_template_25.nii\")\n",
    "print(nimage.header)"
   ]
  },
  {
   "cell_type": "code",
   "execution_count": 14,
   "id": "c22b5c51",
   "metadata": {},
   "outputs": [],
   "source": [
    "nimage = nii.load(\"CCF_DATA/average_template_25.nii\")\n",
    "narray = nimage.get_fdata()\n",
    "nibImg = create_nifti_image(narray,0.025 )\n",
    "nibImg.to_filename(os.path.join(\"CCF_DATA\", 'average_template_25m.nii.gz'))"
   ]
  },
  {
   "cell_type": "markdown",
   "id": "6e22ddc3",
   "metadata": {},
   "source": [
    "# For Annotation Template"
   ]
  },
  {
   "cell_type": "code",
   "execution_count": 16,
   "id": "876653e9",
   "metadata": {},
   "outputs": [],
   "source": [
    "nimage = nii.load(\"CCF_DATA/annotation_25.nii\")\n",
    "narray = nimage.get_fdata()\n",
    "nibImg = create_nifti_image(narray,0.025 )\n",
    "nibImg.to_filename(os.path.join(\"CCF_DATA\", 'annotation_25m.nii.gz'))"
   ]
  }
 ],
 "metadata": {
  "kernelspec": {
   "display_name": "Python 3 (ipykernel)",
   "language": "python",
   "name": "python3"
  },
  "language_info": {
   "codemirror_mode": {
    "name": "ipython",
    "version": 3
   },
   "file_extension": ".py",
   "mimetype": "text/x-python",
   "name": "python",
   "nbconvert_exporter": "python",
   "pygments_lexer": "ipython3",
   "version": "3.9.16"
  }
 },
 "nbformat": 4,
 "nbformat_minor": 5
}
