{
 "cells": [
  {
   "cell_type": "code",
   "execution_count": 1,
   "id": "ad46f2e6",
   "metadata": {},
   "outputs": [],
   "source": [
    "%load_ext autoreload\n",
    "%autoreload 2"
   ]
  },
  {
   "cell_type": "code",
   "execution_count": 2,
   "id": "8e79c70b",
   "metadata": {},
   "outputs": [],
   "source": [
    "import nibabel as nib\n",
    "import os\n",
    "import traceback\n",
    "import joblib"
   ]
  },
  {
   "cell_type": "code",
   "execution_count": 3,
   "id": "683d5266",
   "metadata": {},
   "outputs": [
    {
     "name": "stdout",
     "output_type": "stream",
     "text": [
      "Jupyter environment detected. Enabling Open3D WebVisualizer.\n",
      "[Open3D INFO] WebRTC GUI backend enabled.\n",
      "[Open3D INFO] WebRTCWindowSystem: HTTP handshake server disabled.\n"
     ]
    }
   ],
   "source": [
    "from elastix import *\n",
    "from laplacian3DRegistration import *\n",
    "from reg_utils import *\n",
    "from reconstruction import *\n",
    "from plot_utils import *\n",
    "\n",
    "from registration.utils import loadNiiImages, create_nifti_image, getMutualInformation"
   ]
  },
  {
   "cell_type": "code",
   "execution_count": 4,
   "id": "c23b3ad7",
   "metadata": {},
   "outputs": [],
   "source": [
    "from skimage.color import gray2rgb, label2rgb\n",
    "import skimage\n",
    "def convertToUint8(data):\n",
    "    \"\"\"\n",
    "    Thresholds  and converts data to UINT8\n",
    "    \"\"\"\n",
    "    maxVal  = np.percentile(data, 99)\n",
    "    data[data > maxVal ] = maxVal\n",
    "    data = data*255 /maxVal\n",
    "    data = data.astype(np.uint8)\n",
    "    \n",
    "    return data\n",
    "\n",
    "def drawContours(image, contours):\n",
    "    if( len(np.squeeze(image).shape) ==2): \n",
    "        image  = gray2rgb (image)\n",
    "    \n",
    "    result_image = label2rgb(contours, image, alpha=0.5)\n",
    "    return skimage.img_as_ubyte(result_image)\n",
    "\n",
    "def getEdgeContours(image):\n",
    "    \"\"\"\n",
    "    Applies Otsu Threshold and gets both outer and internal contours. \n",
    "    Filters by contour length\n",
    "    \"\"\"\n",
    "    \n",
    "    image[image>500]=500\n",
    "    #data = skimage.exposure.equalize_adapthist(image.astype(np.uint16))*255\n",
    "    local_thresh = skimage.filters.threshold_otsu(image)\n",
    "    binary = image>local_thresh\n",
    "\n",
    "    edges = feature.canny(binary, sigma=1)\n",
    "    all_labels = measure.label(edges)\n",
    "    \n",
    "    for label in range(np.max(all_labels)):\n",
    "        # Edge Length Paramenter should be automated\n",
    "        if( np.sum(all_labels==label)<100):\n",
    "            edges[all_labels==label] = 0\n",
    "\n",
    "    edges = skimage.morphology.thin(edges)\n",
    "    return edges, binary\n",
    "\n",
    "def saveTestSamples(data, n=8,  prefix=\"test\", template= None ):\n",
    "    \n",
    "    \"\"\"\n",
    "    Draws Contours extracted from moving onto fixed samples\n",
    "    \"\"\"\n",
    "    assert n>1\n",
    "    \n",
    "    if type(data) == str:\n",
    "        dataImage = nib.load(data)\n",
    "        data = dataImage.get_fdata()\n",
    "    data[data<0] =0\n",
    "    data = convertToUint8(data)\n",
    "    \n",
    "    testSamples = np.arange(0, data.shape[0], data.shape[0]/n)[1:]\n",
    "    testSamples = testSamples.astype(int)\n",
    "    \n",
    "    if template is None:\n",
    "        for testSample in testSamples:   \n",
    "            skimage.io.imsave(\"tests/{}_{}.jpg\".format(prefix, testSample),data[testSample] )\n",
    "        return\n",
    "    \n",
    "    if type(template) == str:\n",
    "        templateImage = nib.load(template)\n",
    "        template = templateImage.get_fdata()\n",
    "        template = convertToUint8(template)\n",
    "        \n",
    "    for testSample in testSamples:\n",
    "        e, b = getEdgeContours(template[testSample])\n",
    "        contouredImage = drawContours(data[testSample] , e)\n",
    "        \n",
    "        skimage.io.imsave(\"tests/{}_{}.jpg\".format(prefix, testSample),contouredImage )"
   ]
  },
  {
   "cell_type": "code",
   "execution_count": null,
   "id": "d65a2f8a",
   "metadata": {},
   "outputs": [],
   "source": []
  },
  {
   "cell_type": "markdown",
   "id": "3772fe89",
   "metadata": {},
   "source": [
    "## Environment Parameters"
   ]
  },
  {
   "cell_type": "code",
   "execution_count": 5,
   "id": "af897a5f",
   "metadata": {},
   "outputs": [],
   "source": [
    "alignAxes = True\n",
    "elastixIter =1"
   ]
  },
  {
   "cell_type": "markdown",
   "id": "c728e834",
   "metadata": {},
   "source": [
    "## Load Images"
   ]
  },
  {
   "cell_type": "code",
   "execution_count": 6,
   "id": "174ec251",
   "metadata": {},
   "outputs": [],
   "source": [
    "templateImagePath = \"average_template_25.nii\"\n",
    "dataImagePath = \"B39/brain_25.nii.gz\"\n",
    "annotationImagePath = \"annotations/annotation_25.nii.gz\""
   ]
  },
  {
   "cell_type": "code",
   "execution_count": 7,
   "id": "0f86daa2",
   "metadata": {},
   "outputs": [],
   "source": [
    "annotationImage = nib.load(annotationImagePath)\n",
    "annData = annotationImage.get_fdata()"
   ]
  },
  {
   "cell_type": "code",
   "execution_count": 8,
   "id": "f0058e38",
   "metadata": {},
   "outputs": [],
   "source": [
    "outputDir = \"reg_data2temp_rs\"\n",
    "if not os.path.isdir(outputDir):\n",
    "    os.mkdir(outputDir)\n",
    "    \n",
    "if not os.path.isdir(\"tests_rs\"):\n",
    "    os.mkdir(\"tests_rs\")"
   ]
  },
  {
   "cell_type": "markdown",
   "id": "f26b9746",
   "metadata": {},
   "source": [
    "## Axis Alignment"
   ]
  },
  {
   "cell_type": "code",
   "execution_count": 9,
   "id": "23395509",
   "metadata": {},
   "outputs": [],
   "source": [
    "axisAlignedDataPath  = os.path.join(outputDir , \"axisAlignedData.nii.gz\")"
   ]
  },
  {
   "cell_type": "code",
   "execution_count": 10,
   "id": "6aeb239d",
   "metadata": {},
   "outputs": [],
   "source": [
    "from vol2affine import vol2affine\n",
    "from align_utils import align_rotation\n",
    "def getAlignAxisAffineMatrix(fixed, moving):\n",
    "    \n",
    "    \n",
    "    R, r1, r2 = vol2affine(moving=moving, template=fixed,pivot=(0, 0, 0))\n",
    "    #R = align_rotation(r1,r2)\n",
    "    origin = np.array(moving.shape)/2\n",
    "\n",
    "    A1 = np.eye(4)\n",
    "    A1[0:3, 3] = -origin\n",
    "\n",
    "    A2 = np.eye(4)\n",
    "    A2[0:3,0:3] = R[0:3,0:3]\n",
    "\n",
    "    A3 = np.eye(4)\n",
    "    A3[0:3, 3] = origin\n",
    "    A = (A3@A2)@A1\n",
    "    return A"
   ]
  },
  {
   "cell_type": "code",
   "execution_count": 11,
   "id": "d2eea2cd",
   "metadata": {},
   "outputs": [
    {
     "name": "stderr",
     "output_type": "stream",
     "text": [
      "100%|███████████████████████████████████████████████████████████████████████████████| 161/161 [00:01<00:00, 110.50it/s]\n",
      "100%|███████████████████████████████████████████████████████████████████████████████| 528/528 [00:02<00:00, 237.62it/s]\n"
     ]
    }
   ],
   "source": [
    "if alignAxes:\n",
    "    templateImage = nib.load(templateImagePath)\n",
    "    template = templateImage.get_fdata()\n",
    "\n",
    "    dataImage = nib.load(dataImagePath)\n",
    "    data = dataImage.get_fdata()\n",
    "    \n",
    "    A = getAlignAxisAffineMatrix(template, data)\n",
    "    alignedData = affine_transform(data,np.linalg.inv(A), output_shape = data.shape, order =1)\n",
    "    alignedData[alignedData<0] =0\n",
    "    create_nifti_image(alignedData, 2.5, axisAlignedDataPath, 1)\n",
    "    \n",
    "    dataImage = nib.load(axisAlignedDataPath)\n",
    "    data = dataImage.get_fdata()"
   ]
  },
  {
   "cell_type": "code",
   "execution_count": 12,
   "id": "4bcef7d8",
   "metadata": {},
   "outputs": [],
   "source": [
    "saveTestSamples(dataImagePath, 8, \"original\")\n",
    "saveTestSamples(axisAlignedDataPath,8, \"axisAligned\")"
   ]
  },
  {
   "cell_type": "code",
   "execution_count": 13,
   "id": "fa14d09a",
   "metadata": {},
   "outputs": [],
   "source": [
    "fixedImagePath = templateImagePath\n"
   ]
  },
  {
   "cell_type": "markdown",
   "id": "634611d1",
   "metadata": {},
   "source": [
    "## Elastix"
   ]
  },
  {
   "cell_type": "code",
   "execution_count": 14,
   "id": "c2aa3277",
   "metadata": {},
   "outputs": [],
   "source": [
    "movingImagePath = axisAlignedDataPath"
   ]
  },
  {
   "cell_type": "raw",
   "id": "aef7cf9e",
   "metadata": {},
   "source": [
    "elastixResult  = elastixRegistration(fixedImagePath , movingImagePath, outputDir)\n",
    "fImage = nib.load(fixedImagePath)\n",
    "fdata = fImage.get_fdata()\n",
    "tImage = nib.load(elastixResult)\n",
    "tdata = tImage.get_fdata()\n",
    "saveTestSamples(tdata , 8 , \"elastix\" , templateImagePath)\n",
    "print(\"Mutual Information:{}\".format(getMutualInformation(fdata, tdata)))"
   ]
  },
  {
   "cell_type": "raw",
   "id": "3bfdd585",
   "metadata": {},
   "source": [
    "if elastixIter ==2:\n",
    "    outputDir2 = \"reg2\"\n",
    "    if not os.path.isdir(outputDir2):\n",
    "            os.mkdir(outputDir2)\n",
    "    elastixResult = elastixRegistration(axisAlignedDataPath , os.path.join(outputDir , \"result.1.nii\"), outputDir2)"
   ]
  },
  {
   "cell_type": "code",
   "execution_count": 17,
   "id": "4e3d288f",
   "metadata": {},
   "outputs": [],
   "source": [
    "def rescaleMaxTo255(data):\n",
    "    \"\"\"\n",
    "    Thresholds  and converts data to UINT8\n",
    "    \"\"\"\n",
    "    maxVal  = np.percentile(data, 99)\n",
    "    data[data > maxVal ] = maxVal\n",
    "    data = data*255 /maxVal\n",
    "    return data"
   ]
  },
  {
   "cell_type": "code",
   "execution_count": 18,
   "id": "42a49af7",
   "metadata": {},
   "outputs": [
    {
     "data": {
      "text/plain": [
       "<nibabel.nifti1.Nifti1Image at 0x2101257cb20>"
      ]
     },
     "execution_count": 18,
     "metadata": {},
     "output_type": "execute_result"
    }
   ],
   "source": [
    "mImage = nib.load(axisAlignedDataPath)\n",
    "mdata = mImage.get_fdata()\n",
    "mdata = rescaleMaxTo255(mdata)\n",
    "\n",
    "create_nifti_image(mdata, 2.5, os.path.join(outputDir, \"mrescaled.nii.gz\"),1)"
   ]
  },
  {
   "cell_type": "code",
   "execution_count": 19,
   "id": "eee74504",
   "metadata": {},
   "outputs": [
    {
     "name": "stderr",
     "output_type": "stream",
     "text": [
      "C:\\Users\\3i\\AppData\\Local\\Temp\\ipykernel_6600\\4042179872.py:27: DeprecationWarning: NumPy will stop allowing conversion of out-of-bound Python integers to integer arrays.  The conversion of 500 to uint8 will fail in the future.\n",
      "For the old behavior, usually:\n",
      "    np.array(value).astype(dtype)`\n",
      "will give the desired result (the cast overflows).\n",
      "  image[image>500]=500\n"
     ]
    },
    {
     "name": "stdout",
     "output_type": "stream",
     "text": [
      "Mutual Information:-0.7354833557664661\n"
     ]
    }
   ],
   "source": [
    "elastixResult  = elastixRegistration(fixedImagePath , os.path.join(outputDir, \"mrescaled.nii.gz\"), \"testrescale\")\n",
    "elastixResult = elastixTransformation(axisAlignedDataPath, \"testrescale\")\n",
    "\n",
    "fImage = nib.load(fixedImagePath)\n",
    "fdata = fImage.get_fdata()\n",
    "tImage = nib.load(elastixResult)\n",
    "tdata = tImage.get_fdata()\n",
    "saveTestSamples(tdata , 8 , \"elastix\" , templateImagePath)\n",
    "\n",
    "print(\"Mutual Information:{}\".format(getMutualInformation(fdata, tdata)))"
   ]
  },
  {
   "cell_type": "markdown",
   "id": "fdecbb15",
   "metadata": {},
   "source": [
    "## Elastix Keyframe + 2D Laplacian"
   ]
  },
  {
   "cell_type": "code",
   "execution_count": 20,
   "id": "2fda2d09",
   "metadata": {},
   "outputs": [],
   "source": [
    "movingImagePath = elastixResult"
   ]
  },
  {
   "cell_type": "code",
   "execution_count": 21,
   "id": "a788dc72",
   "metadata": {},
   "outputs": [
    {
     "name": "stderr",
     "output_type": "stream",
     "text": [
      "100%|████████████████████████████████████████████████████████████████████████████████| 528/528 [24:46<00:00,  2.82s/it]\n"
     ]
    },
    {
     "name": "stdout",
     "output_type": "stream",
     "text": [
      "Mutual Information:-0.8110337440755004\n"
     ]
    },
    {
     "name": "stderr",
     "output_type": "stream",
     "text": [
      "C:\\Users\\3i\\AppData\\Local\\Temp\\ipykernel_6600\\4042179872.py:27: DeprecationWarning: NumPy will stop allowing conversion of out-of-bound Python integers to integer arrays.  The conversion of 500 to uint8 will fail in the future.\n",
      "For the old behavior, usually:\n",
      "    np.array(value).astype(dtype)`\n",
      "will give the desired result (the cast overflows).\n",
      "  image[image>500]=500\n"
     ]
    }
   ],
   "source": [
    "try:\n",
    "    deformationField = sliceToSlice2DLaplacian(fixedImagePath , movingImagePath)\n",
    "    np.save(os.path.join(outputDir,\"deformation2d.npy\"), deformationField)\n",
    "    transformedData   = applyDeformationField(movingImagePath , deformationField)\n",
    "    create_nifti_image(transformedData, 2.5, os.path.join(outputDir, \"elastix2DRefined.nii.gz\"), 1/2)\n",
    "    fImage = nib.load(fixedImagePath)\n",
    "    fdata = fImage.get_fdata()\n",
    "    print(\"Mutual Information:{}\".format(getMutualInformation(fdata, transformedData)))\n",
    "    saveTestSamples(transformedData , 8 , \"elastix2DRefined\" , templateImagePath)\n",
    "except Exception as e:\n",
    "    traceback.print_exc()"
   ]
  },
  {
   "cell_type": "code",
   "execution_count": 22,
   "id": "8fb46cde",
   "metadata": {},
   "outputs": [
    {
     "name": "stderr",
     "output_type": "stream",
     "text": [
      "C:\\Users\\3i\\AppData\\Local\\Temp\\ipykernel_6600\\4042179872.py:27: DeprecationWarning: NumPy will stop allowing conversion of out-of-bound Python integers to integer arrays.  The conversion of 500 to uint8 will fail in the future.\n",
      "For the old behavior, usually:\n",
      "    np.array(value).astype(dtype)`\n",
      "will give the desired result (the cast overflows).\n",
      "  image[image>500]=500\n"
     ]
    }
   ],
   "source": [
    "saveTestSamples(transformedData , 8 , \"elastix2DRefined\" , templateImagePath)"
   ]
  },
  {
   "cell_type": "raw",
   "id": "5158f1da",
   "metadata": {},
   "source": [
    "fdata , mdata = loadNiiImages([fixedImagePath, movingImagePath])\n",
    "sno = 255\n",
    "dataimage = np.take(mdata, 255, axis=0)\n",
    "templateimage = np.take(fdata, 255, axis=0)\n",
    "plot2DCorrespondences(dataimage, templateimage)\n",
    "fedge, medge, fbin, mbin = getContours(templateimage,dataimage )\n",
    "dx, dy = nonLinearRegistration2D(fedge, medge, fbin, mbin )\n",
    "regImage = geometric_transform(dataimage, partial(shift2Dfunc, dx=dx, dy=dy))"
   ]
  },
  {
   "cell_type": "markdown",
   "id": "919e8b4e",
   "metadata": {},
   "source": [
    "## Elastix + 3D Laplacian "
   ]
  },
  {
   "cell_type": "code",
   "execution_count": 23,
   "id": "dd94620e",
   "metadata": {},
   "outputs": [],
   "source": [
    "fixedImagePath = templateImagePath\n",
    "\n",
    "movingImagePath = elastixResult"
   ]
  },
  {
   "cell_type": "code",
   "execution_count": 24,
   "id": "9026b9e1",
   "metadata": {},
   "outputs": [
    {
     "name": "stderr",
     "output_type": "stream",
     "text": [
      "100%|████████████████████████████████████████████████████████████████████████████████| 528/528 [10:33<00:00,  1.20s/it]\n"
     ]
    },
    {
     "name": "stdout",
     "output_type": "stream",
     "text": [
      "Building data for Laplacian Sparse Matrix A\n",
      "Creating Laplacian Sparse Matrix A\n",
      "dx calculated in 239.79392957687378s\n",
      "dz calculated in 370.6237483024597s\n",
      "Mutual Information:-0.8194379842870538\n"
     ]
    },
    {
     "name": "stderr",
     "output_type": "stream",
     "text": [
      "C:\\Users\\3i\\AppData\\Local\\Temp\\ipykernel_6600\\4042179872.py:27: DeprecationWarning: NumPy will stop allowing conversion of out-of-bound Python integers to integer arrays.  The conversion of 500 to uint8 will fail in the future.\n",
      "For the old behavior, usually:\n",
      "    np.array(value).astype(dtype)`\n",
      "will give the desired result (the cast overflows).\n",
      "  image[image>500]=500\n"
     ]
    }
   ],
   "source": [
    "try:\n",
    "    deformationField  = sliceToSlice3DLaplacian(fixedImagePath , movingImagePath , axis =0 )\n",
    "    np.save(os.path.join(outputDir,\"deformation3d.npy\"), deformationField)\n",
    "    transformedData   = applyDeformationField(movingImagePath , deformationField)\n",
    "    create_nifti_image(transformedData, 2.5, os.path.join(outputDir, \"elastixRefined.nii.gz\"), 1/2)\n",
    "\n",
    "    fImage = nib.load(fixedImagePath)\n",
    "    fdata = fImage.get_fdata()\n",
    "    print(\"Mutual Information:{}\".format(getMutualInformation(fdata, transformedData)))\n",
    "    saveTestSamples(transformedData , 8 , \"elastix3DRefined\" , templateImagePath)\n",
    "except Exception as e:\n",
    "    traceback.print_exc()"
   ]
  },
  {
   "cell_type": "markdown",
   "id": "c72e2553",
   "metadata": {},
   "source": [
    "## 3D - 3D"
   ]
  },
  {
   "cell_type": "code",
   "execution_count": 31,
   "id": "0d5886eb",
   "metadata": {},
   "outputs": [],
   "source": [
    "fixedImagePath =templateImagePath \n",
    "movingImagePath = axisAlignedDataPath"
   ]
  },
  {
   "cell_type": "code",
   "execution_count": 32,
   "id": "0fae2750",
   "metadata": {},
   "outputs": [
    {
     "name": "stderr",
     "output_type": "stream",
     "text": [
      "448039it [01:03, 7070.21it/s]\n",
      "208293it [00:19, 10829.41it/s]\n",
      "100%|██████████████████████████████████████████████████████████████████████████████████| 25/25 [01:59<00:00,  4.80s/it]\n",
      "443830it [01:02, 7146.40it/s]\n",
      "448039it [00:40, 11144.77it/s]\n"
     ]
    },
    {
     "name": "stdout",
     "output_type": "stream",
     "text": [
      "Building data for Laplacian Sparse Matrix A\n",
      "Creating Laplacian Sparse Matrix A\n",
      "dx calculated in 240.38252997398376s\n",
      "dy calculated in 479.2745804786682s\n",
      "dz calculated in 681.1365797519684s\n",
      "Mutual Information:-0.6758897603795798\n"
     ]
    },
    {
     "name": "stderr",
     "output_type": "stream",
     "text": [
      "C:\\Users\\3i\\AppData\\Local\\Temp\\ipykernel_10448\\4042179872.py:27: DeprecationWarning: NumPy will stop allowing conversion of out-of-bound Python integers to integer arrays.  The conversion of 500 to uint8 will fail in the future.\n",
      "For the old behavior, usually:\n",
      "    np.array(value).astype(dtype)`\n",
      "will give the desired result (the cast overflows).\n",
      "  image[image>500]=500\n"
     ]
    }
   ],
   "source": [
    "try:\n",
    "    A, deformationField, transformedData = reg3D(fixedImagePath, movingImagePath , 25, 5,75)\n",
    "    joblib.dump( [A, deformationField], os.path.join(outputDir,\"deformationl3d.pkl\"))\n",
    "    #transformedData   = applyDeformationField(movingImagePath , deformationField)\n",
    "    create_nifti_image(transformedData, 2.5, os.path.join(outputDir, \"laplacian3d.nii.gz\"), 1/2)\n",
    "    print(\"Mutual Information:{}\".format(getMutualInformation(fdata, transformedData)))\n",
    "    saveTestSamples(transformedData , 8 , \"laplacian3D\" , templateImagePath)\n",
    "except Exception as e:\n",
    "    traceback.print_exc()"
   ]
  },
  {
   "cell_type": "markdown",
   "id": "a3393b56",
   "metadata": {},
   "source": [
    "## Area Keyframe + 2D Laplacian"
   ]
  },
  {
   "cell_type": "code",
   "execution_count": 25,
   "id": "92ce85db",
   "metadata": {},
   "outputs": [],
   "source": [
    "fixedImagePath =templateImagePath \n",
    "movingImagePath = axisAlignedDataPath\n",
    "fImage = nib.load(fixedImagePath)\n",
    "fdata = fImage.get_fdata()"
   ]
  },
  {
   "cell_type": "code",
   "execution_count": 26,
   "id": "bdb45297",
   "metadata": {},
   "outputs": [
    {
     "name": "stderr",
     "output_type": "stream",
     "text": [
      "448039it [01:04, 6905.12it/s]\n",
      "208293it [00:19, 10646.20it/s]\n",
      " 36%|█████████████████████████████▉                                                     | 9/25 [00:48<01:25,  5.37s/it]\n",
      "444640it [01:02, 7068.44it/s]\n"
     ]
    },
    {
     "name": "stdout",
     "output_type": "stream",
     "text": [
      "Building data for Laplacian Sparse Matrix A\n",
      "Creating Laplacian Sparse Matrix A\n"
     ]
    },
    {
     "name": "stderr",
     "output_type": "stream",
     "text": [
      "  0%|                                                                                          | 0/528 [00:00<?, ?it/s]C:\\Users\\3i\\anaconda3\\envs\\tissuecyte\\lib\\site-packages\\numpy\\lib\\function_base.py:4573: RuntimeWarning: invalid value encountered in subtract\n",
      "  diff_b_a = subtract(b, a)\n",
      "100%|████████████████████████████████████████████████████████████████████████████████| 528/528 [28:23<00:00,  3.23s/it]\n"
     ]
    },
    {
     "name": "stdout",
     "output_type": "stream",
     "text": [
      "Mutual Information:-0.6394556848654188\n"
     ]
    },
    {
     "name": "stderr",
     "output_type": "stream",
     "text": [
      "C:\\Users\\3i\\AppData\\Local\\Temp\\ipykernel_10448\\4042179872.py:27: DeprecationWarning: NumPy will stop allowing conversion of out-of-bound Python integers to integer arrays.  The conversion of 500 to uint8 will fail in the future.\n",
      "For the old behavior, usually:\n",
      "    np.array(value).astype(dtype)`\n",
      "will give the desired result (the cast overflows).\n",
      "  image[image>500]=500\n"
     ]
    }
   ],
   "source": [
    "try:\n",
    "    A, deformationField, transformedData = areaKeyFrame2DLaplacian(fixedImagePath , movingImagePath, 25, 5,75)\n",
    "    joblib.dump( [A, deformationField], os.path.join(outputDir,\"areaKeyFrameDeformation2d.pkl\"))    \n",
    "    #affineTransformedData = applyAffineTransform(movingImagePath , A,fdata.shape )\n",
    "    #transformedData   = applyDeformationField(affineTransformedData , deformationField)\n",
    "    create_nifti_image(transformedData, 2.5, os.path.join(outputDir, \"keyframe2DRefined.nii.gz\"), 1/2)\n",
    "    print(\"Mutual Information:{}\".format(getMutualInformation(fdata, transformedData)))\n",
    "    saveTestSamples(transformedData , 8 , \"areaKeyFrame2DLaplacian\" , templateImagePath)\n",
    "\n",
    "except Exception as e:\n",
    "    traceback.print_exc()"
   ]
  },
  {
   "cell_type": "markdown",
   "id": "7e036963",
   "metadata": {},
   "source": [
    "## Area Keyframe + 3D Laplacian"
   ]
  },
  {
   "cell_type": "code",
   "execution_count": 27,
   "id": "cb875e85",
   "metadata": {},
   "outputs": [],
   "source": [
    "fixedImagePath =templateImagePath \n",
    "movingImagePath = axisAlignedDataPath\n",
    "fImage = nib.load(fixedImagePath)\n",
    "fdata = fImage.get_fdata()"
   ]
  },
  {
   "cell_type": "code",
   "execution_count": 28,
   "id": "61948e6f",
   "metadata": {},
   "outputs": [
    {
     "name": "stderr",
     "output_type": "stream",
     "text": [
      "448039it [01:04, 6978.01it/s]\n",
      "208293it [00:19, 10435.76it/s]\n",
      " 36%|█████████████████████████████▉                                                     | 9/25 [00:48<01:26,  5.42s/it]\n",
      "444822it [01:02, 7143.15it/s]\n"
     ]
    },
    {
     "name": "stdout",
     "output_type": "stream",
     "text": [
      "Building data for Laplacian Sparse Matrix A\n",
      "Creating Laplacian Sparse Matrix A\n"
     ]
    },
    {
     "name": "stderr",
     "output_type": "stream",
     "text": [
      "100%|████████████████████████████████████████████████████████████████████████████████| 528/528 [10:58<00:00,  1.25s/it]\n"
     ]
    },
    {
     "name": "stdout",
     "output_type": "stream",
     "text": [
      "Building data for Laplacian Sparse Matrix A\n",
      "Creating Laplacian Sparse Matrix A\n",
      "dx calculated in 297.7416498661041s\n",
      "dz calculated in 581.210691690445s\n",
      "Mutual Information:-0.6551787317562096\n"
     ]
    },
    {
     "name": "stderr",
     "output_type": "stream",
     "text": [
      "C:\\Users\\3i\\AppData\\Local\\Temp\\ipykernel_10448\\4042179872.py:27: DeprecationWarning: NumPy will stop allowing conversion of out-of-bound Python integers to integer arrays.  The conversion of 500 to uint8 will fail in the future.\n",
      "For the old behavior, usually:\n",
      "    np.array(value).astype(dtype)`\n",
      "will give the desired result (the cast overflows).\n",
      "  image[image>500]=500\n"
     ]
    }
   ],
   "source": [
    "try:\n",
    "    A, deformationField,transformedData = areaKeyFrame3DLaplacian(fixedImagePath , movingImagePath, 25,5, 75)\n",
    "    joblib.dump( [A, deformationField], os.path.join(outputDir,\"areaKeyFrameDeformation3d.pkl\"))    \n",
    "    #np.save(\"areaKeyFrameDeformation3d.npy\", np.array([A, deformationField]))\n",
    "    #affineTransformedData = applyAffineTransform(movingImagePath , A,fdata.shape )\n",
    "    #transformedData   = applyDeformationField(affineTransformedData , deformationField)\n",
    "    create_nifti_image(transformedData, 2.5, os.path.join(outputDir, \"keyframe3DRefined.nii.gz\"), 1/2)\n",
    "    print(\"Mutual Information:{}\".format(getMutualInformation(fdata, transformedData)))    \n",
    "    saveTestSamples(transformedData , 8 , \"areaKeyFrame3DLaplacian\" , templateImagePath)\n",
    "except Exception as e:\n",
    "    traceback.print_exc()"
   ]
  },
  {
   "cell_type": "code",
   "execution_count": 29,
   "id": "3b0d674f",
   "metadata": {},
   "outputs": [],
   "source": [
    "import numpy as np\n",
    "import cv2\n",
    "import matplotlib.pyplot as plt\n",
    "import pandas as pd\n",
    "from tqdm import tqdm\n",
    "\n",
    "import nibabel as nib\n",
    "import SimpleITK as sitk\n",
    "import napari\n",
    "\n",
    "import plotly.express as px\n",
    "import plotly.graph_objects as go\n",
    "\n",
    "from scipy import ndimage\n",
    "from scipy.ndimage import gaussian_filter\n",
    "import open3d as o3d\n",
    "\n",
    "from skimage.util import random_noise\n",
    "from skimage import feature\n",
    "from skimage import filters\n",
    "from skimage import measure\n",
    "from scipy.ndimage import affine_transform\n",
    "from skimage.segmentation import felzenszwalb, slic, quickshift, watershed\n",
    "from skimage.filters import sobel\n",
    "from skimage.exposure import match_histograms\n",
    "\n",
    "from scipy.sparse import csr_matrix, linalg as sla\n",
    "\n",
    "from registration import *\n",
    "from plot_utils import *\n",
    "from edge_utils import *\n",
    "\n",
    "\n",
    "import open3d\n",
    "import os\n",
    "import gc\n",
    "#from mayavi import mlab\n",
    "\n",
    "import scipy\n",
    "import pyamg"
   ]
  },
  {
   "cell_type": "code",
   "execution_count": 30,
   "id": "815d6e6b",
   "metadata": {},
   "outputs": [],
   "source": [
    "def getContours(sno, fdata, mdata, axis=0):\n",
    "    \n",
    "    fpercentile  = np.percentile(fdata, 99)\n",
    "    fdata[fdata > fpercentile ] = fpercentile\n",
    "    \n",
    "    fixedimage = np.take(fdata, sno, axis=axis)\n",
    "    movingimage = np.take(mdata, sno, axis=axis)\n",
    "    \n",
    "    fedge , fbin = getEdgeContours(fixedimage)\n",
    "    medge , mbin = getEdgeContours(movingimage)\n",
    "\n",
    "    return fedge, medge, fbin, mbin"
   ]
  }
 ],
 "metadata": {
  "kernelspec": {
   "display_name": "Python 3 (ipykernel)",
   "language": "python",
   "name": "python3"
  },
  "language_info": {
   "codemirror_mode": {
    "name": "ipython",
    "version": 3
   },
   "file_extension": ".py",
   "mimetype": "text/x-python",
   "name": "python",
   "nbconvert_exporter": "python",
   "pygments_lexer": "ipython3",
   "version": "3.9.16"
  }
 },
 "nbformat": 4,
 "nbformat_minor": 5
}
