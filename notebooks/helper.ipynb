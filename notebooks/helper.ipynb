{
 "cells": [
  {
   "cell_type": "code",
   "execution_count": 3,
   "id": "25767a8c",
   "metadata": {},
   "outputs": [
    {
     "name": "stdout",
     "output_type": "stream",
     "text": [
      "The autoreload extension is already loaded. To reload it, use:\n",
      "  %reload_ext autoreload\n"
     ]
    }
   ],
   "source": [
    "%load_ext autoreload\n",
    "%autoreload 2"
   ]
  },
  {
   "cell_type": "code",
   "execution_count": 11,
   "id": "7e15046f",
   "metadata": {},
   "outputs": [],
   "source": [
    "import registration as rg"
   ]
  },
  {
   "cell_type": "code",
   "execution_count": 5,
   "id": "2f26ab60",
   "metadata": {},
   "outputs": [],
   "source": [
    "templateImagePath = \"CCF_DATA/average_template_25.nii.gz\"\n",
    "dataImagePath = \"../registration/B39/brain_25.nii.gz\"\n",
    "annotationImagePath = \"CCF_DATA/annotation_25.nii.gz\""
   ]
  },
  {
   "cell_type": "code",
   "execution_count": 7,
   "id": "9ea3df8f",
   "metadata": {},
   "outputs": [],
   "source": [
    "import os\n",
    "outputDir = \"reg\"\n",
    "if not os.path.isdir(outputDir):\n",
    "    os.mkdir(outputDir)\n",
    "    \n",
    "if not os.path.isdir(\"reg/tests\"):\n",
    "    os.mkdir(\"reg/tests\")"
   ]
  },
  {
   "cell_type": "code",
   "execution_count": 20,
   "id": "a3e18cc2",
   "metadata": {},
   "outputs": [],
   "source": [
    "fixedImagePath = templateImagePath\n",
    "movingImagePath = dataImagePath"
   ]
  },
  {
   "cell_type": "code",
   "execution_count": 16,
   "id": "ead684c0",
   "metadata": {},
   "outputs": [],
   "source": [
    "from reconstruction import create_nifti_image"
   ]
  },
  {
   "cell_type": "code",
   "execution_count": 17,
   "id": "6026e87c",
   "metadata": {},
   "outputs": [
    {
     "name": "stderr",
     "output_type": "stream",
     "text": [
      "100%|███████████████████████████████████████████████████████████████████████████████| 161/161 [00:01<00:00, 112.75it/s]\n",
      "100%|███████████████████████████████████████████████████████████████████████████████| 528/528 [00:02<00:00, 241.21it/s]\n"
     ]
    },
    {
     "data": {
      "text/plain": [
       "<nibabel.nifti1.Nifti1Image at 0x1fe71a57b80>"
      ]
     },
     "execution_count": 17,
     "metadata": {},
     "output_type": "execute_result"
    }
   ],
   "source": [
    "A, axisAlignedData = rg.axisAlignData(fixedImagePath, movingImagPath)\n",
    "\n",
    "axisAlignedDataPath  = os.path.join(outputDir , \"axisAlignedData.nii.gz\")\n",
    "create_nifti_image(axisAlignedData, 25, axisAlignedDataPath, 1)"
   ]
  },
  {
   "cell_type": "code",
   "execution_count": 21,
   "id": "ba17e126",
   "metadata": {},
   "outputs": [],
   "source": [
    "movingImagePath = axisAlignedDataPath"
   ]
  },
  {
   "cell_type": "code",
   "execution_count": 24,
   "id": "544721d9",
   "metadata": {},
   "outputs": [
    {
     "ename": "AttributeError",
     "evalue": "module 'registration' has no attribute 'elastixTransformation'",
     "output_type": "error",
     "traceback": [
      "\u001b[1;31m---------------------------------------------------------------------------\u001b[0m",
      "\u001b[1;31mAttributeError\u001b[0m                            Traceback (most recent call last)",
      "Cell \u001b[1;32mIn[24], line 2\u001b[0m\n\u001b[0;32m      1\u001b[0m elastixResult  \u001b[38;5;241m=\u001b[39m rg\u001b[38;5;241m.\u001b[39melastixRegistration(fixedImagePath , movingImagePath, outputDir, rescale\u001b[38;5;241m=\u001b[39m\u001b[38;5;28;01mTrue\u001b[39;00m)\n\u001b[1;32m----> 2\u001b[0m elastixResult  \u001b[38;5;241m=\u001b[39m \u001b[43mrg\u001b[49m\u001b[38;5;241;43m.\u001b[39;49m\u001b[43melastixTransformation\u001b[49m(axisAlignedDataPath, outputDir)\n",
      "\u001b[1;31mAttributeError\u001b[0m: module 'registration' has no attribute 'elastixTransformation'"
     ]
    }
   ],
   "source": [
    "elastixResult  = rg.elastixRegistration(fixedImagePath , movingImagePath, outputDir, rescale=True)"
   ]
  },
  {
   "cell_type": "code",
   "execution_count": 26,
   "id": "5f1555bb",
   "metadata": {},
   "outputs": [],
   "source": [
    "elastixResult  = rg.elastixTransformation(axisAlignedDataPath, outputDir)"
   ]
  },
  {
   "cell_type": "code",
   "execution_count": 27,
   "id": "febd49dc",
   "metadata": {},
   "outputs": [],
   "source": [
    "movingImagePath = elastixResult"
   ]
  },
  {
   "cell_type": "code",
   "execution_count": 28,
   "id": "41b8fe79",
   "metadata": {},
   "outputs": [
    {
     "name": "stderr",
     "output_type": "stream",
     "text": [
      " 81%|█████████████████████████████████████████████████████████████████▏              | 430/528 [09:06<01:53,  1.16s/it]C:\\Users\\3i\\anaconda3\\envs\\tissuecyte\\lib\\site-packages\\numpy\\lib\\function_base.py:4573: RuntimeWarning: invalid value encountered in subtract\n",
      "  diff_b_a = subtract(b, a)\n",
      "100%|████████████████████████████████████████████████████████████████████████████████| 528/528 [10:50<00:00,  1.23s/it]\n"
     ]
    },
    {
     "name": "stdout",
     "output_type": "stream",
     "text": [
      "Building data for Laplacian Sparse Matrix A\n",
      "Creating Laplacian Sparse Matrix A\n",
      "dx calculated in 342.9300584793091s\n",
      "dz calculated in 643.5535998344421s\n"
     ]
    },
    {
     "ename": "NameError",
     "evalue": "name 'np' is not defined",
     "output_type": "error",
     "traceback": [
      "\u001b[1;31m---------------------------------------------------------------------------\u001b[0m",
      "\u001b[1;31mNameError\u001b[0m                                 Traceback (most recent call last)",
      "Cell \u001b[1;32mIn[28], line 2\u001b[0m\n\u001b[0;32m      1\u001b[0m deformationField  \u001b[38;5;241m=\u001b[39m rg\u001b[38;5;241m.\u001b[39msliceToSlice3DLaplacian(fixedImagePath , movingImagePath , axis \u001b[38;5;241m=\u001b[39m\u001b[38;5;241m0\u001b[39m )\n\u001b[1;32m----> 2\u001b[0m \u001b[43mnp\u001b[49m\u001b[38;5;241m.\u001b[39msave(os\u001b[38;5;241m.\u001b[39mpath\u001b[38;5;241m.\u001b[39mjoin(outputDir,\u001b[38;5;124m\"\u001b[39m\u001b[38;5;124mdeformation3d.npy\u001b[39m\u001b[38;5;124m\"\u001b[39m), deformationField)\n\u001b[0;32m      3\u001b[0m transformedData   \u001b[38;5;241m=\u001b[39m applyDeformationField(movingImagePath , deformationField)\n\u001b[0;32m      4\u001b[0m refinedResultPath \u001b[38;5;241m=\u001b[39m os\u001b[38;5;241m.\u001b[39mpath\u001b[38;5;241m.\u001b[39mjoin(outputDir, \u001b[38;5;124m\"\u001b[39m\u001b[38;5;124melastixRefined.nii.gz\u001b[39m\u001b[38;5;124m\"\u001b[39m)\n",
      "\u001b[1;31mNameError\u001b[0m: name 'np' is not defined"
     ]
    }
   ],
   "source": [
    "deformationField  = rg.sliceToSlice3DLaplacian(fixedImagePath , movingImagePath , axis =0 )\n"
   ]
  },
  {
   "cell_type": "code",
   "execution_count": 29,
   "id": "e9130539",
   "metadata": {},
   "outputs": [],
   "source": [
    "import numpy as np"
   ]
  },
  {
   "cell_type": "code",
   "execution_count": 31,
   "id": "f63593d0",
   "metadata": {},
   "outputs": [
    {
     "data": {
      "text/plain": [
       "<nibabel.nifti1.Nifti1Image at 0x1fe2c833640>"
      ]
     },
     "execution_count": 31,
     "metadata": {},
     "output_type": "execute_result"
    }
   ],
   "source": [
    "np.save(os.path.join(outputDir,\"deformation3d.npy\"), deformationField)\n",
    "transformedData   = rg.applyDeformationField(movingImagePath , deformationField)\n",
    "refinedResultPath = os.path.join(outputDir, \"elastixRefined.nii.gz\")\n",
    "create_nifti_image(transformedData, 2.5, refinedResultPath, 1/2)"
   ]
  },
  {
   "cell_type": "code",
   "execution_count": 32,
   "id": "de7547d0",
   "metadata": {},
   "outputs": [
    {
     "name": "stdout",
     "output_type": "stream",
     "text": [
      "[[ 9.99997081e-01 -5.16963473e-04 -2.36031453e-03  7.76355103e-01]\n",
      " [ 3.86390408e-04  9.98486871e-01 -5.49892649e-02  1.57277509e+01]\n",
      " [ 2.38517051e-03  5.49881924e-02  9.98484156e-01 -1.18953976e+01]\n",
      " [ 0.00000000e+00  0.00000000e+00  0.00000000e+00  1.00000000e+00]]\n"
     ]
    }
   ],
   "source": [
    "print(A)"
   ]
  }
 ],
 "metadata": {
  "kernelspec": {
   "display_name": "Python 3 (ipykernel)",
   "language": "python",
   "name": "python3"
  },
  "language_info": {
   "codemirror_mode": {
    "name": "ipython",
    "version": 3
   },
   "file_extension": ".py",
   "mimetype": "text/x-python",
   "name": "python",
   "nbconvert_exporter": "python",
   "pygments_lexer": "ipython3",
   "version": "3.9.16"
  }
 },
 "nbformat": 4,
 "nbformat_minor": 5
}
