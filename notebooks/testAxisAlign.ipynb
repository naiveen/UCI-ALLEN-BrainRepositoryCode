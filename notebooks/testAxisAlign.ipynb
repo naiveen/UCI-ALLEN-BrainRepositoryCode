{
 "cells": [
  {
   "cell_type": "code",
   "execution_count": 1,
   "id": "cf9ba419",
   "metadata": {},
   "outputs": [],
   "source": [
    "%load_ext autoreload\n",
    "%autoreload 2"
   ]
  },
  {
   "cell_type": "code",
   "execution_count": 2,
   "id": "dc2d9043",
   "metadata": {},
   "outputs": [],
   "source": [
    "import sys\n",
    "sys.path.append('../')"
   ]
  },
  {
   "cell_type": "code",
   "execution_count": 3,
   "id": "a5e2c0af",
   "metadata": {},
   "outputs": [
    {
     "name": "stdout",
     "output_type": "stream",
     "text": [
      "Jupyter environment detected. Enabling Open3D WebVisualizer.\n",
      "[Open3D INFO] WebRTC GUI backend enabled.\n",
      "[Open3D INFO] WebRTCWindowSystem: HTTP handshake server disabled.\n"
     ]
    }
   ],
   "source": [
    "import nibabel as nib\n",
    "import traceback\n",
    "import joblib\n",
    "\n",
    "import registration as rg\n",
    "from scipy.ndimage import affine_transform\n",
    "\n",
    "from registration.utils import *"
   ]
  },
  {
   "cell_type": "code",
   "execution_count": 4,
   "id": "f7d54e5f",
   "metadata": {},
   "outputs": [],
   "source": [
    "from registration.reg_utils import loadNiiImages\n",
    "from registration.vol2affine import vol2affine"
   ]
  },
  {
   "cell_type": "code",
   "execution_count": 5,
   "id": "3b382f7b",
   "metadata": {},
   "outputs": [],
   "source": [
    "templateImagePath = \"../CCF_DATA/average_template_10.nii.gz\"\n",
    "dataImagePath = \"../../registration/B39/brain_10.nii.gz\"\n",
    "fixedImagePath = templateImagePath\n",
    "movingImagePath = dataImagePath"
   ]
  },
  {
   "cell_type": "code",
   "execution_count": 6,
   "id": "c6fd0168",
   "metadata": {},
   "outputs": [],
   "source": [
    "fImage  = nib.load(fixedImagePath)\n",
    "mImage = nib.load(movingImagePath)"
   ]
  },
  {
   "cell_type": "code",
   "execution_count": 8,
   "id": "c220ac51",
   "metadata": {},
   "outputs": [],
   "source": [
    "mdata = mImage.get_fdata()"
   ]
  },
  {
   "cell_type": "code",
   "execution_count": 26,
   "id": "4662d3c4",
   "metadata": {},
   "outputs": [
    {
     "name": "stderr",
     "output_type": "stream",
     "text": [
      "100%|████████████████████████████████████████████████████████████████████████████████| 161/161 [00:09<00:00, 16.62it/s]\n",
      "100%|██████████████████████████████████████████████████████████████████████████████| 1320/1320 [00:19<00:00, 69.39it/s]\n"
     ]
    }
   ],
   "source": [
    "fdata, mdata  = loadNiiImages([fixedImagePath, movingImagePath])\n",
    "R, r1, r2 = vol2affine(moving=mdata, template=fdata,pivot=(0, 0, 0))"
   ]
  },
  {
   "cell_type": "code",
   "execution_count": 28,
   "id": "aac7a3c9",
   "metadata": {},
   "outputs": [
    {
     "data": {
      "text/plain": [
       "array([[ 9.99841133e-01,  2.39173003e-04,  1.78227897e-02,\n",
       "         0.00000000e+00],\n",
       "       [ 1.80780979e-04,  9.99722469e-01, -2.35574167e-02,\n",
       "         0.00000000e+00],\n",
       "       [-1.78234776e-02,  2.35568963e-02,  9.99563603e-01,\n",
       "         0.00000000e+00],\n",
       "       [ 0.00000000e+00,  0.00000000e+00,  0.00000000e+00,\n",
       "         1.00000000e+00]])"
      ]
     },
     "execution_count": 28,
     "metadata": {},
     "output_type": "execute_result"
    }
   ],
   "source": [
    "R"
   ]
  },
  {
   "cell_type": "code",
   "execution_count": 8,
   "id": "49ee1366",
   "metadata": {},
   "outputs": [
    {
     "name": "stderr",
     "output_type": "stream",
     "text": [
      "100%|████████████████████████████████████████████████████████████████████████████████| 161/161 [00:10<00:00, 15.72it/s]\n",
      "100%|██████████████████████████████████████████████████████████████████████████████| 1320/1320 [00:20<00:00, 64.72it/s]\n"
     ]
    }
   ],
   "source": [
    "fixedImagePath = templateImagePath\n",
    "movingImagePath = dataImagePath\n",
    "A, axisAlignedData = rg.axisAlignData(fixedImagePath, movingImagePath)\n",
    "create_nifti_image(alignedData, 1, \"axisAlign10_0.nii.gz\",1)"
   ]
  },
  {
   "cell_type": "code",
   "execution_count": 11,
   "id": "cb0077ad",
   "metadata": {},
   "outputs": [
    {
     "data": {
      "text/plain": [
       "array([[ 9.99841133e-01,  2.39173003e-04,  1.78227897e-02,\n",
       "        -1.26197062e+01],\n",
       "       [ 1.80780979e-04,  9.99722469e-01, -2.35574167e-02,\n",
       "         1.66632515e+01],\n",
       "       [-1.78234776e-02,  2.35568963e-02,  9.99563603e-01,\n",
       "        -1.00368708e+01],\n",
       "       [ 0.00000000e+00,  0.00000000e+00,  0.00000000e+00,\n",
       "         1.00000000e+00]])"
      ]
     },
     "execution_count": 11,
     "metadata": {},
     "output_type": "execute_result"
    }
   ],
   "source": [
    "A"
   ]
  },
  {
   "cell_type": "code",
   "execution_count": 32,
   "id": "893dc684",
   "metadata": {},
   "outputs": [],
   "source": [
    "fixed, moving  = loadNiiImages([fixedImagePath, movingImagePath])"
   ]
  },
  {
   "cell_type": "code",
   "execution_count": null,
   "id": "050c987e",
   "metadata": {},
   "outputs": [],
   "source": [
    "templateImagePath = \"../CCF_DATA/average_template_25.nii.gz\"\n",
    "dataImagePath = \"../../registration/B39/brain_25.nii.gz\"\n",
    "fixedImagePath = templateImagePath\n",
    "movingImagePath = dataImagePath\n",
    "fdata, mdata  = loadNiiImages([fixedImagePath, movingImagePath])\n",
    "R, r1, r2 = vol2affine(moving=mdata, template=fdata,pivot=(0, 0, 0))"
   ]
  },
  {
   "cell_type": "code",
   "execution_count": 33,
   "id": "f7fcce31",
   "metadata": {},
   "outputs": [],
   "source": [
    "origin = np.array(moving.shape)/2\n",
    "\n",
    "A1 = np.eye(4)\n",
    "A1[0:3, 3] = -origin\n",
    "\n",
    "A2 = np.eye(4)\n",
    "A2[0:3,0:3] = R[0:3,0:3]\n",
    "\n",
    "A3 = np.eye(4)\n",
    "A3[0:3, 3] = origin\n",
    "A = (A3@A2)@A1"
   ]
  },
  {
   "cell_type": "code",
   "execution_count": 36,
   "id": "4a45d7dc",
   "metadata": {},
   "outputs": [],
   "source": [
    "alignedData = affine_transform(moving,np.linalg.inv(A), output_shape = moving.shape, order =1)"
   ]
  },
  {
   "cell_type": "code",
   "execution_count": 37,
   "id": "6b324177",
   "metadata": {},
   "outputs": [
    {
     "data": {
      "text/plain": [
       "<nibabel.nifti1.Nifti1Image at 0x206026a2be0>"
      ]
     },
     "execution_count": 37,
     "metadata": {},
     "output_type": "execute_result"
    }
   ],
   "source": [
    "create_nifti_image(alignedData, 1, \"axisAlign10.nii.gz\",1)"
   ]
  }
 ],
 "metadata": {
  "kernelspec": {
   "display_name": "Python 3 (ipykernel)",
   "language": "python",
   "name": "python3"
  },
  "language_info": {
   "codemirror_mode": {
    "name": "ipython",
    "version": 3
   },
   "file_extension": ".py",
   "mimetype": "text/x-python",
   "name": "python",
   "nbconvert_exporter": "python",
   "pygments_lexer": "ipython3",
   "version": "3.9.16"
  }
 },
 "nbformat": 4,
 "nbformat_minor": 5
}
